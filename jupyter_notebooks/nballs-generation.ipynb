{
 "cells": [
  {
   "cell_type": "markdown",
   "metadata": {},
   "source": [
    "# Nballs Generation\n",
    "\n",
    "**Please read the [Readme](https://github.com/ghanem-mhd/N-Balls-Visualization) for more information.**"
   ]
  },
  {
   "cell_type": "code",
   "execution_count": 3,
   "metadata": {},
   "outputs": [
    {
     "data": {
      "text/plain": [
       "Q29tYm9ib3godmFsdWU9dScnLCBkZXNjcmlwdGlvbj11J0lucHV0OicsIGxheW91dD1MYXlvdXQoaGVpZ2h0PXUnYXV0bycsIHdpZHRoPXUnNTAlJyksIG9wdGlvbnM9KHUnQ2l0aWVzJywgdSfigKY=\n"
      ]
     },
     "execution_count": 0,
     "metadata": {},
     "output_type": "execute_result"
    }
   ],
   "source": [
    "from ipywidgets import Layout\n",
    "import ipywidgets as widgets\n",
    "import os\n",
    "from IPython.display import clear_output, display\n",
    "\n",
    "SAMPLE = None\n",
    "\n",
    "project_path        = os.path.dirname(os.getcwd())\n",
    "data_path           = project_path + '/data'\n",
    "custom_input        = data_path + \"/custom_input.txt\"\n",
    "word2vec            = data_path + \"/glove.txt\"\n",
    "\n",
    "def generate_nballs(glove_file_path, output_path, sample, input_file_path):\n",
    "    generate_balls_string_command = \"../main.py --generate_nballs --w2v %s --output %s --sample %s --input %s\"\n",
    "    command = generate_balls_string_command%(glove_file_path, output_path, sample, input_file_path)     \n",
    "    %run $command\n",
    "    \n",
    "def write_data_to_file(file_path, lines):\n",
    "    with open(file_path, 'w') as file:\n",
    "        for line in lines:\n",
    "            file.write(line)\n",
    "            if not '\\n' in line:\n",
    "                file.write(\"\\n\")\n",
    "\n",
    "# UI Widgets\n",
    "input_examples         = widgets.Combobox( placeholder='Choose Example', description='Input:', options=['Cities','Fruits','Custom'], layout=Layout(height='auto', width='50%'))\n",
    "check_input_button     = widgets.Button(description='Check', button_style='success')\n",
    "words_input            = widgets.Textarea(value='',description='Words', placeholder='keywords comma separated',  layout=Layout(height='auto', width='50%'))\n",
    "word2vec_path_input    = widgets.Text(placeholder='word2vec file path', value = '', description='word2vec', layout=Layout(height='auto', width='50%'))\n",
    "generate_balls_button  = widgets.Button(description='Generate Balls', button_style='success')\n",
    "buttons_box            = widgets.Box([word2vec_path_input,generate_balls_button])\n",
    "custom_box             = widgets.Box([words_input,check_input_button])\n",
    "\n",
    "# UI Widget functions\n",
    "def on_input_example_choose(change):\n",
    "    global SAMPLE\n",
    "    if change['type'] == 'change' and change['name'] == 'value':\n",
    "        choosen_values = change['new']\n",
    "        input_examples.disabled = True\n",
    "        SAMPLE = choosen_values\n",
    "        if (choosen_values == 'Custom'):\n",
    "            display(custom_box)\n",
    "            SAMPLE = None\n",
    "        else:\n",
    "            display(buttons_box)\n",
    "\n",
    "def on_check_button_clicked(button):\n",
    "    parsed_tokens = [x.strip() for x in str(words_input.value).split(',')]\n",
    "    words = [x for x in parsed_tokens if x]\n",
    "    if len(words) > 0:\n",
    "        words_input.disabled = True\n",
    "        check_input_button.disabled = True\n",
    "        write_data_to_file(custom_input,words)\n",
    "        display(buttons_box)\n",
    "    else:\n",
    "        print(\"Can't parse your input! Try Again!\")\n",
    "        \n",
    "def check_input_for_nballs():\n",
    "    if os.path.exists(children_file_path) and os.path.exists(cat_code_file_path):\n",
    "        display(generate_nballs_button)\n",
    "        \n",
    "def on_generate_ball_button_clicked(button):\n",
    "    word2vec_path_input.disabled = True\n",
    "    generate_balls_button.disabled = True\n",
    "    if word2vec_path_input.value:\n",
    "        generate_nballs(word2vec_path_input.value, data_path, SAMPLE, custom_input)\n",
    "    else:\n",
    "        print(\"Provide a path for word2Vec! Try again!\")\n",
    "    \n",
    "# Set Widget listeners\n",
    "input_examples.observe(on_input_example_choose)\n",
    "check_input_button.on_click(on_check_button_clicked)\n",
    "generate_balls_button.on_click(on_generate_ball_button_clicked)\n",
    "\n",
    "# Start UI nteraction\n",
    "display(input_examples)"
   ]
  },
  {
   "cell_type": "code",
   "execution_count": null,
   "metadata": {},
   "outputs": [],
   "source": []
  }
 ],
 "metadata": {
  "kernelspec": {
   "display_name": "Python 3",
   "language": "python",
   "name": "python3"
  },
  "language_info": {
   "codemirror_mode": {
    "name": "ipython",
    "version": 3
   },
   "file_extension": ".py",
   "mimetype": "text/x-python",
   "name": "python",
   "nbconvert_exporter": "python",
   "pygments_lexer": "ipython3",
   "version": "3.7.3"
  }
 },
 "nbformat": 4,
 "nbformat_minor": 2
}
